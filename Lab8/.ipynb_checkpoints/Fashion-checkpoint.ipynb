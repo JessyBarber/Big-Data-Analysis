{
 "cells": [
  {
   "cell_type": "markdown",
   "metadata": {
    "id": "KC8kDnGWQq3t"
   },
   "source": [
    "# Image Classification by MLP - Fashion MNIST"
   ]
  },
  {
   "cell_type": "markdown",
   "metadata": {
    "id": "C1LmSuDXQq3w"
   },
   "source": [
    "In this exercise, we will try to use a neural network on a simple classification task: classifying images of clothes into 10 classes."
   ]
  },
  {
   "cell_type": "markdown",
   "metadata": {
    "id": "dVMPj7AaQq3w"
   },
   "source": [
    "We will first download the data:"
   ]
  },
  {
   "cell_type": "code",
   "execution_count": 1,
   "metadata": {
    "colab": {
     "base_uri": "https://localhost:8080/"
    },
    "id": "ITytt7DoQq3x",
    "outputId": "68554947-3975-4f36-d60e-122a7ac1f275",
    "scrolled": true
   },
   "outputs": [
    {
     "name": "stdout",
     "output_type": "stream",
     "text": [
      "Downloading data from https://storage.googleapis.com/tensorflow/tf-keras-datasets/train-labels-idx1-ubyte.gz\n",
      "32768/29515 [=================================] - 0s 0us/step\n",
      "40960/29515 [=========================================] - 0s 0us/step\n",
      "Downloading data from https://storage.googleapis.com/tensorflow/tf-keras-datasets/train-images-idx3-ubyte.gz\n",
      "26427392/26421880 [==============================] - 0s 0us/step\n",
      "26435584/26421880 [==============================] - 0s 0us/step\n",
      "Downloading data from https://storage.googleapis.com/tensorflow/tf-keras-datasets/t10k-labels-idx1-ubyte.gz\n",
      "16384/5148 [===============================================================================================] - 0s 0us/step\n",
      "Downloading data from https://storage.googleapis.com/tensorflow/tf-keras-datasets/t10k-images-idx3-ubyte.gz\n",
      "4423680/4422102 [==============================] - 0s 0us/step\n",
      "4431872/4422102 [==============================] - 0s 0us/step\n"
     ]
    },
    {
     "data": {
      "text/plain": [
       "(60000, 28, 28)"
      ]
     },
     "execution_count": 1,
     "metadata": {},
     "output_type": "execute_result"
    }
   ],
   "source": [
    "from tensorflow.keras.datasets import fashion_mnist\n",
    "\n",
    "#TODO: load dataset\n",
    "(X_train, y_train), (X_test, y_test) = fashion_mnist.load_data()\n",
    "\n",
    "#TODO: Resample the dataset if needed\n",
    "# X_train = ...\n",
    "# y_train = ...\n",
    "# X_test = ...\n",
    "# y_test = ...\n",
    "\n",
    "X_train.shape"
   ]
  },
  {
   "cell_type": "markdown",
   "metadata": {
    "id": "cBvzVVCNQq3y"
   },
   "source": [
    "This dataset contains 10 classes:\n",
    "* 0:\tT-shirt/top\n",
    "* 1:\tTrouser\n",
    "* 2:\tPullover\n",
    "* 3:\tDress\n",
    "* 4:\tCoat\n",
    "* 5:\tSandal\n",
    "* 6:\tShirt\n",
    "* 7:\tSneaker\n",
    "* 8:\tBag\n",
    "* 9:\tAnkle boot"
   ]
  },
  {
   "cell_type": "markdown",
   "metadata": {
    "id": "6TJ3X00ZQq3y"
   },
   "source": [
    "Now begin by exploring the data. Try to display some images with the associated label."
   ]
  },
  {
   "cell_type": "code",
   "execution_count": 9,
   "metadata": {
    "colab": {
     "base_uri": "https://localhost:8080/",
     "height": 281
    },
    "id": "owXybZE9Qq3z",
    "outputId": "56f9b422-9010-42af-ef4e-cc6a4fb39f72",
    "scrolled": true
   },
   "outputs": [
    {
     "data": {
      "image/png": "[encoded data removed]",
      "text/plain": [
       "<Figure size 432x288 with 1 Axes>"
      ]
     },
     "metadata": {
      "needs_background": "light"
     },
     "output_type": "display_data"
    }
   ],
   "source": [
    "# TODO: Explore the data, display some input images\n",
    "%matplotlib inline\n",
    "import matplotlib.pyplot as plt\n",
    "import numpy as np\n",
    "\n",
    "label_class = ['top', 'trouser', 'pullover', 'dress', 'coat', 'sandal', 'shirt', 'sneaker', 'bag', 'ankle boot']\n",
    "\n",
    "# np.random.seed(0)\n",
    "idx = np.random.randint(X_train.shape[0])\n",
    "\n",
    "plt.imshow(X_train[idx], cmap=\"gray_r\")\n",
    "plt.title(label_class[y_train[idx]])\n",
    "plt.show()"
   ]
  },
  {
   "cell_type": "markdown",
   "metadata": {
    "id": "JXqCr1hlQq30"
   },
   "source": [
    "**Before going further**: what methods could you use to perform such a classification task?"
   ]
  },
  {
   "cell_type": "markdown",
   "metadata": {
    "id": "Ei90krQMQq30"
   },
   "source": [
    "---"
   ]
  },
  {
   "cell_type": "markdown",
   "metadata": {
    "id": "BL77q7FSQq30"
   },
   "source": [
    "The first method you will try is using neural networks. First step is the data preparation: data rescaling, label preparation.\n",
    "\n",
    "Hint: you can use the Keras function `to_categorical`"
   ]
  },
  {
   "cell_type": "code",
   "execution_count": 10,
   "metadata": {
    "colab": {
     "base_uri": "https://localhost:8080/"
    },
    "id": "uwoA_kFZQq31",
    "outputId": "ba7a8cb5-fb7c-4ae0-aced-1d30b3b99144"
   },
   "outputs": [
    {
     "name": "stdout",
     "output_type": "stream",
     "text": [
      "(60000, 28, 28)\n",
      "(60000, 784)\n"
     ]
    }
   ],
   "source": [
    "# TODO: Make the data preparation\n",
    "from tensorflow.keras.utils import to_categorical\n",
    "\n",
    "y_train_cat = to_categorical(y_train, num_classes=10)\n",
    "y_test_cat = to_categorical(y_test, num_classes=10)\n",
    "\n",
    "X_train_norm = X_train / 255\n",
    "X_test_norm = X_test / 255\n",
    "\n",
    "# TODO: reshape the image data (2D array) into input 1D array for a neural network\n",
    "print(np.shape(X_train_norm))\n",
    "X_train_norm = X_train_norm.reshape(X_train.shape[0], np.prod(X_train_norm.shape[1:]))\n",
    "print(np.shape(X_train_norm))\n",
    "X_test_norm = X_test_norm.reshape(X_test.shape[0], np.prod(X_test_norm.shape[1:]))"
   ]
  },
  {
   "cell_type": "markdown",
   "metadata": {
    "id": "dBYKopnHQq31"
   },
   "source": [
    "Next step: model building with Keras. Build your neural network architecture. At first, I would recommend a light architecture: no more than 2 hidden layers, with about 10 units per layer. Put that model into a function, so that you can reuse it later."
   ]
  },
  {
   "cell_type": "code",
   "execution_count": 14,
   "metadata": {
    "colab": {
     "base_uri": "https://localhost:8080/"
    },
    "id": "uoWWh0ShQq31",
    "outputId": "956b7fcf-4ef5-4da3-99ff-f9ceeec49e43"
   },
   "outputs": [
    {
     "name": "stdout",
     "output_type": "stream",
     "text": [
      "Model: \"sequential_3\"\n",
      "_________________________________________________________________\n",
      " Layer (type)                Output Shape              Param #   \n",
      "=================================================================\n",
      " dense_2 (Dense)             (None, 10)                7850      \n",
      "                                                                 \n",
      " dense_3 (Dense)             (None, 10)                110       \n",
      "                                                                 \n",
      " dense_4 (Dense)             (None, 10)                110       \n",
      "                                                                 \n",
      "=================================================================\n",
      "Total params: 8,070\n",
      "Trainable params: 8,070\n",
      "Non-trainable params: 0\n",
      "_________________________________________________________________\n"
     ]
    }
   ],
   "source": [
    "# TODO: Build your model\n",
    "from tensorflow.keras.models import Sequential\n",
    "from tensorflow.keras.layers import Dense\n",
    "\n",
    "def my_model(input_dim):\n",
    "    # Create the Sequential object\n",
    "    model = Sequential()\n",
    "\n",
    "    # Add 2 dense layers with 10 neurons each using sigmoid or relu activation\n",
    "    model.add(Dense(10, input_dim = input_dim, activation = \"sigmoid\"))\n",
    "    model.add(Dense(10, activation = \"sigmoid\"))\n",
    "    \n",
    "    # Add the output layer with one unit: the predicted result\n",
    "    model.add(Dense(10, activation='softmax'))\n",
    "    \n",
    "    return model\n",
    "\n",
    "my_model(X_train_norm.shape[1]).summary()"
   ]
  },
  {
   "cell_type": "markdown",
   "metadata": {
    "id": "YkrWJlUtQq32"
   },
   "source": [
    "Now compile and fit your model on your training data. Since this is a multiclass classification, the loss is not `binary_crossentropy` anymore, but `categorical_crossentropy`."
   ]
  },
  {
   "cell_type": "code",
   "execution_count": 17,
   "metadata": {
    "colab": {
     "base_uri": "https://localhost:8080/"
    },
    "id": "wTYomJEaQq32",
    "outputId": "538b372b-50b5-40e0-8bc3-b7c6a5155133",
    "scrolled": true
   },
   "outputs": [
    {
     "name": "stdout",
     "output_type": "stream",
     "text": [
      "Epoch 1/100\n",
      "469/469 [==============================] - 2s 3ms/step - loss: 1.9095 - accuracy: 0.4044\n",
      "Epoch 2/100\n",
      "469/469 [==============================] - 1s 2ms/step - loss: 1.3155 - accuracy: 0.6640\n",
      "Epoch 3/100\n",
      "469/469 [==============================] - 1s 3ms/step - loss: 0.9909 - accuracy: 0.7480\n",
      "Epoch 4/100\n",
      "469/469 [==============================] - 1s 2ms/step - loss: 0.7915 - accuracy: 0.7771\n",
      "Epoch 5/100\n",
      "469/469 [==============================] - 1s 3ms/step - loss: 0.6692 - accuracy: 0.7906\n",
      "Epoch 6/100\n",
      "469/469 [==============================] - 1s 3ms/step - loss: 0.5994 - accuracy: 0.8045\n",
      "Epoch 7/100\n",
      "469/469 [==============================] - 1s 3ms/step - loss: 0.5554 - accuracy: 0.8169\n",
      "Epoch 8/100\n",
      "469/469 [==============================] - 1s 3ms/step - loss: 0.5253 - accuracy: 0.8260\n",
      "Epoch 9/100\n",
      "469/469 [==============================] - 1s 2ms/step - loss: 0.5022 - accuracy: 0.8335\n",
      "Epoch 10/100\n",
      "469/469 [==============================] - 1s 2ms/step - loss: 0.4846 - accuracy: 0.8376\n",
      "Epoch 11/100\n",
      "469/469 [==============================] - 1s 2ms/step - loss: 0.4706 - accuracy: 0.8408\n",
      "Epoch 12/100\n",
      "469/469 [==============================] - 1s 2ms/step - loss: 0.4593 - accuracy: 0.8433\n",
      "Epoch 13/100\n",
      "469/469 [==============================] - 1s 3ms/step - loss: 0.4484 - accuracy: 0.8467\n",
      "Epoch 14/100\n",
      "469/469 [==============================] - 1s 3ms/step - loss: 0.4406 - accuracy: 0.8485\n",
      "Epoch 15/100\n",
      "469/469 [==============================] - 1s 3ms/step - loss: 0.4334 - accuracy: 0.8516\n",
      "Epoch 16/100\n",
      "469/469 [==============================] - 1s 3ms/step - loss: 0.4269 - accuracy: 0.8523\n",
      "Epoch 17/100\n",
      "469/469 [==============================] - 1s 2ms/step - loss: 0.4189 - accuracy: 0.8557\n",
      "Epoch 18/100\n",
      "469/469 [==============================] - 1s 2ms/step - loss: 0.4140 - accuracy: 0.8577\n",
      "Epoch 19/100\n",
      "469/469 [==============================] - 1s 3ms/step - loss: 0.4083 - accuracy: 0.8590\n",
      "Epoch 20/100\n",
      "469/469 [==============================] - 1s 3ms/step - loss: 0.4043 - accuracy: 0.8592\n",
      "Epoch 21/100\n",
      "469/469 [==============================] - 1s 3ms/step - loss: 0.3998 - accuracy: 0.8612\n",
      "Epoch 22/100\n",
      "469/469 [==============================] - 1s 2ms/step - loss: 0.3952 - accuracy: 0.8631\n",
      "Epoch 23/100\n",
      "469/469 [==============================] - 1s 3ms/step - loss: 0.3917 - accuracy: 0.8638\n",
      "Epoch 24/100\n",
      "469/469 [==============================] - 1s 2ms/step - loss: 0.3890 - accuracy: 0.8646\n",
      "Epoch 25/100\n",
      "469/469 [==============================] - 1s 3ms/step - loss: 0.3849 - accuracy: 0.8662\n",
      "Epoch 26/100\n",
      "469/469 [==============================] - 1s 2ms/step - loss: 0.3815 - accuracy: 0.8665\n",
      "Epoch 27/100\n",
      "469/469 [==============================] - 1s 2ms/step - loss: 0.3800 - accuracy: 0.8674\n",
      "Epoch 28/100\n",
      "469/469 [==============================] - 1s 2ms/step - loss: 0.3766 - accuracy: 0.8681\n",
      "Epoch 29/100\n",
      "469/469 [==============================] - 1s 2ms/step - loss: 0.3729 - accuracy: 0.8702\n",
      "Epoch 30/100\n",
      "469/469 [==============================] - 1s 2ms/step - loss: 0.3716 - accuracy: 0.8705\n",
      "Epoch 31/100\n",
      "469/469 [==============================] - 1s 3ms/step - loss: 0.3690 - accuracy: 0.8710\n",
      "Epoch 32/100\n",
      "469/469 [==============================] - 1s 2ms/step - loss: 0.3680 - accuracy: 0.8704\n",
      "Epoch 33/100\n",
      "469/469 [==============================] - 1s 3ms/step - loss: 0.3652 - accuracy: 0.8716\n",
      "Epoch 34/100\n",
      "469/469 [==============================] - 1s 2ms/step - loss: 0.3627 - accuracy: 0.8727\n",
      "Epoch 35/100\n",
      "469/469 [==============================] - 1s 2ms/step - loss: 0.3615 - accuracy: 0.8742\n",
      "Epoch 36/100\n",
      "469/469 [==============================] - 1s 3ms/step - loss: 0.3601 - accuracy: 0.8729\n",
      "Epoch 37/100\n",
      "469/469 [==============================] - 1s 3ms/step - loss: 0.3582 - accuracy: 0.8731\n",
      "Epoch 38/100\n",
      "469/469 [==============================] - 1s 2ms/step - loss: 0.3562 - accuracy: 0.8747\n",
      "Epoch 39/100\n",
      "469/469 [==============================] - 1s 2ms/step - loss: 0.3545 - accuracy: 0.8759\n",
      "Epoch 40/100\n",
      "469/469 [==============================] - 1s 2ms/step - loss: 0.3539 - accuracy: 0.8757\n",
      "Epoch 41/100\n",
      "469/469 [==============================] - 1s 2ms/step - loss: 0.3529 - accuracy: 0.8749\n",
      "Epoch 42/100\n",
      "469/469 [==============================] - 1s 2ms/step - loss: 0.3499 - accuracy: 0.8766\n",
      "Epoch 43/100\n",
      "469/469 [==============================] - 1s 2ms/step - loss: 0.3501 - accuracy: 0.8757\n",
      "Epoch 44/100\n",
      "469/469 [==============================] - 1s 2ms/step - loss: 0.3478 - accuracy: 0.8776\n",
      "Epoch 45/100\n",
      "469/469 [==============================] - 1s 2ms/step - loss: 0.3476 - accuracy: 0.8759\n",
      "Epoch 46/100\n",
      "469/469 [==============================] - 1s 2ms/step - loss: 0.3446 - accuracy: 0.8781\n",
      "Epoch 47/100\n",
      "469/469 [==============================] - 1s 2ms/step - loss: 0.3444 - accuracy: 0.8784\n",
      "Epoch 48/100\n",
      "469/469 [==============================] - 1s 2ms/step - loss: 0.3439 - accuracy: 0.8786\n",
      "Epoch 49/100\n",
      "469/469 [==============================] - 1s 2ms/step - loss: 0.3420 - accuracy: 0.8788\n",
      "Epoch 50/100\n",
      "469/469 [==============================] - 1s 2ms/step - loss: 0.3415 - accuracy: 0.8790\n",
      "Epoch 51/100\n",
      "469/469 [==============================] - 1s 2ms/step - loss: 0.3403 - accuracy: 0.8799\n",
      "Epoch 52/100\n",
      "469/469 [==============================] - 2s 4ms/step - loss: 0.3387 - accuracy: 0.8800\n",
      "Epoch 53/100\n",
      "469/469 [==============================] - 1s 2ms/step - loss: 0.3375 - accuracy: 0.8803\n",
      "Epoch 54/100\n",
      "469/469 [==============================] - 1s 2ms/step - loss: 0.3377 - accuracy: 0.8799\n",
      "Epoch 55/100\n",
      "469/469 [==============================] - 1s 2ms/step - loss: 0.3352 - accuracy: 0.8812\n",
      "Epoch 56/100\n",
      "469/469 [==============================] - 1s 2ms/step - loss: 0.3351 - accuracy: 0.8816\n",
      "Epoch 57/100\n",
      "469/469 [==============================] - 1s 2ms/step - loss: 0.3337 - accuracy: 0.8816\n",
      "Epoch 58/100\n",
      "469/469 [==============================] - 1s 2ms/step - loss: 0.3319 - accuracy: 0.8819\n",
      "Epoch 59/100\n",
      "469/469 [==============================] - 1s 2ms/step - loss: 0.3315 - accuracy: 0.8821\n",
      "Epoch 60/100\n",
      "469/469 [==============================] - 1s 3ms/step - loss: 0.3314 - accuracy: 0.8823\n",
      "Epoch 61/100\n",
      "469/469 [==============================] - 1s 2ms/step - loss: 0.3308 - accuracy: 0.8823\n",
      "Epoch 62/100\n",
      "469/469 [==============================] - 1s 2ms/step - loss: 0.3292 - accuracy: 0.8836\n",
      "Epoch 63/100\n",
      "469/469 [==============================] - 1s 2ms/step - loss: 0.3290 - accuracy: 0.8826\n",
      "Epoch 64/100\n",
      "469/469 [==============================] - 1s 2ms/step - loss: 0.3281 - accuracy: 0.8835\n",
      "Epoch 65/100\n",
      "469/469 [==============================] - 1s 2ms/step - loss: 0.3277 - accuracy: 0.8833\n",
      "Epoch 66/100\n",
      "469/469 [==============================] - 1s 2ms/step - loss: 0.3270 - accuracy: 0.8837\n",
      "Epoch 67/100\n",
      "469/469 [==============================] - 1s 2ms/step - loss: 0.3260 - accuracy: 0.8842\n",
      "Epoch 68/100\n",
      "469/469 [==============================] - 1s 2ms/step - loss: 0.3258 - accuracy: 0.8838\n",
      "Epoch 69/100\n",
      "469/469 [==============================] - 1s 2ms/step - loss: 0.3251 - accuracy: 0.8846\n",
      "Epoch 70/100\n",
      "469/469 [==============================] - 1s 2ms/step - loss: 0.3238 - accuracy: 0.8845\n",
      "Epoch 71/100\n",
      "469/469 [==============================] - 1s 2ms/step - loss: 0.3240 - accuracy: 0.8850\n",
      "Epoch 72/100\n",
      "469/469 [==============================] - 1s 2ms/step - loss: 0.3225 - accuracy: 0.8857\n",
      "Epoch 73/100\n",
      "469/469 [==============================] - 1s 2ms/step - loss: 0.3221 - accuracy: 0.8849\n",
      "Epoch 74/100\n",
      "469/469 [==============================] - 1s 2ms/step - loss: 0.3213 - accuracy: 0.8855\n",
      "Epoch 75/100\n",
      "469/469 [==============================] - 1s 2ms/step - loss: 0.3206 - accuracy: 0.8855\n",
      "Epoch 76/100\n",
      "469/469 [==============================] - 1s 2ms/step - loss: 0.3201 - accuracy: 0.8857\n",
      "Epoch 77/100\n",
      "469/469 [==============================] - 1s 2ms/step - loss: 0.3187 - accuracy: 0.8863\n",
      "Epoch 78/100\n",
      "469/469 [==============================] - 1s 2ms/step - loss: 0.3187 - accuracy: 0.8868\n",
      "Epoch 79/100\n",
      "469/469 [==============================] - 1s 2ms/step - loss: 0.3180 - accuracy: 0.8861\n",
      "Epoch 80/100\n",
      "469/469 [==============================] - 1s 3ms/step - loss: 0.3176 - accuracy: 0.8866\n",
      "Epoch 81/100\n",
      "469/469 [==============================] - 1s 2ms/step - loss: 0.3169 - accuracy: 0.8874\n",
      "Epoch 82/100\n",
      "469/469 [==============================] - 1s 2ms/step - loss: 0.3164 - accuracy: 0.8874\n",
      "Epoch 83/100\n",
      "469/469 [==============================] - 1s 2ms/step - loss: 0.3158 - accuracy: 0.8872\n",
      "Epoch 84/100\n",
      "469/469 [==============================] - 1s 2ms/step - loss: 0.3158 - accuracy: 0.8870\n",
      "Epoch 85/100\n",
      "469/469 [==============================] - 1s 2ms/step - loss: 0.3150 - accuracy: 0.8879\n",
      "Epoch 86/100\n",
      "469/469 [==============================] - 1s 2ms/step - loss: 0.3145 - accuracy: 0.8887\n",
      "Epoch 87/100\n",
      "469/469 [==============================] - 1s 2ms/step - loss: 0.3136 - accuracy: 0.8877\n",
      "Epoch 88/100\n",
      "469/469 [==============================] - 1s 2ms/step - loss: 0.3126 - accuracy: 0.8878\n",
      "Epoch 89/100\n",
      "469/469 [==============================] - 1s 3ms/step - loss: 0.3138 - accuracy: 0.8881\n",
      "Epoch 90/100\n",
      "469/469 [==============================] - 1s 2ms/step - loss: 0.3116 - accuracy: 0.8883\n",
      "Epoch 91/100\n",
      "469/469 [==============================] - 1s 2ms/step - loss: 0.3115 - accuracy: 0.8884\n",
      "Epoch 92/100\n",
      "469/469 [==============================] - 1s 3ms/step - loss: 0.3115 - accuracy: 0.8890\n",
      "Epoch 93/100\n",
      "469/469 [==============================] - 1s 3ms/step - loss: 0.3106 - accuracy: 0.8900\n",
      "Epoch 94/100\n",
      "469/469 [==============================] - 1s 2ms/step - loss: 0.3102 - accuracy: 0.8890\n",
      "Epoch 95/100\n",
      "469/469 [==============================] - 1s 2ms/step - loss: 0.3109 - accuracy: 0.8888\n",
      "Epoch 96/100\n",
      "469/469 [==============================] - 1s 3ms/step - loss: 0.3094 - accuracy: 0.8888\n",
      "Epoch 97/100\n",
      "469/469 [==============================] - 1s 2ms/step - loss: 0.3103 - accuracy: 0.8888\n",
      "Epoch 98/100\n",
      "469/469 [==============================] - 1s 2ms/step - loss: 0.3082 - accuracy: 0.8894\n",
      "Epoch 99/100\n",
      "469/469 [==============================] - 1s 2ms/step - loss: 0.3081 - accuracy: 0.8905\n",
      "Epoch 100/100\n",
      "469/469 [==============================] - 1s 2ms/step - loss: 0.3070 - accuracy: 0.8899\n"
     ]
    },
    {
     "data": {
      "text/plain": [
       "<keras.callbacks.History at 0x7f4b20ec6c50>"
      ]
     },
     "execution_count": 17,
     "metadata": {},
     "output_type": "execute_result"
    }
   ],
   "source": [
    "import os\n",
    "\n",
    "#https://stackoverflow.com/questions/53014306/error-15-initializing-libiomp5-dylib-but-found-libiomp5-dylib-already-initial\n",
    "# os.environ['KMP_DUPLICATE_LIB_OK']='True' \n",
    "\n",
    "# TODO: Compile and fit your model\n",
    "model = my_model(X_train_norm.shape[1])\n",
    "\n",
    "model.compile(optimizer='adam', loss='categorical_crossentropy', metrics=['accuracy'])\n",
    "\n",
    "model.fit(X_train_norm, y_train_cat, epochs=100, batch_size=128)"
   ]
  },
  {
   "cell_type": "markdown",
   "metadata": {
    "id": "thwbhtRmQq32"
   },
   "source": [
    "Once your model has been trained, compute the accuracy (and other metrics if you want) on the train and test dataset.\n",
    "\n",
    "Be careful, Keras returns softmax output (so an array of 10 values between 0 and 1, for which the sum is equal to 1). To compute correctly the accuracy, you have to convert that array into a categorical array with zeros and a 1."
   ]
  },
  {
   "cell_type": "code",
   "execution_count": 18,
   "metadata": {
    "colab": {
     "base_uri": "https://localhost:8080/"
    },
    "id": "YyrOxyZzQq33",
    "outputId": "777237e4-d20b-4591-d324-cd7910d27dab"
   },
   "outputs": [
    {
     "name": "stdout",
     "output_type": "stream",
     "text": [
      "accuracy on train with NN: 0.8919833302497864\n",
      "accuracy on test with NN: 0.8535000085830688\n"
     ]
    }
   ],
   "source": [
    "# TODO: Compute the accuracy of your model\n",
    "print('accuracy on train with NN:', model.evaluate(X_train_norm, y_train_cat, verbose=0)[1])\n",
    "print('accuracy on test with NN:', model.evaluate(X_test_norm, y_test_cat, verbose=0)[1])"
   ]
  },
  {
   "cell_type": "markdown",
   "metadata": {
    "id": "P_zmmZ3MQq33"
   },
   "source": [
    "What do you think of those results? Can you improve it by changing the number of layers? Of units per layer? The number of epochs? The activation functions?\n",
    "\n",
    "You should try!"
   ]
  },
  {
   "cell_type": "markdown",
   "metadata": {
    "id": "V8z-9vXWQq33"
   },
   "source": [
    "---"
   ]
  },
  {
   "cell_type": "markdown",
   "metadata": {
    "id": "Al2V8ySWQq33"
   },
   "source": [
    "In order to compare your results with more traditional machine learning methods, you will do this work with another method: a PCA followed by a classification model (of your choice). Of course, you can perform hyperparameter optimization using a gridsearch on that model!\n",
    "\n",
    "Fit your model and display the performances."
   ]
  },
  {
   "cell_type": "code",
   "execution_count": 19,
   "metadata": {
    "id": "leBBf0R2Qq34"
   },
   "outputs": [],
   "source": [
    "# TODO: Redo the classification with PCA and classification model\n",
    "from sklearn.decomposition import PCA\n",
    "\n",
    "pca = PCA(n_components=0.9)\n",
    "\n",
    "pca.fit(X_train_norm)\n",
    "X_train_pca = pca.transform(X_train_norm)\n",
    "X_test_pca = pca.transform(X_test_norm)"
   ]
  },
  {
   "cell_type": "code",
   "execution_count": 22,
   "metadata": {
    "colab": {
     "base_uri": "https://localhost:8080/"
    },
    "id": "cJF5WW7vQq34",
    "outputId": "8a81f92c-9f64-4c64-b81e-b3f8d2c8fcaa"
   },
   "outputs": [
    {
     "name": "stdout",
     "output_type": "stream",
     "text": [
      "score with RF on train 0.9999833333333333\n",
      "score with RF on train 0.8585\n"
     ]
    }
   ],
   "source": [
    "# TODO: use any classifier you want\n",
    "from sklearn.ensemble import RandomForestClassifier\n",
    "\n",
    "rf = RandomForestClassifier()\n",
    "\n",
    "rf.fit(X_train_pca, y_train)\n",
    "\n",
    "print('score with RF on train', rf.score(X_train_pca, y_train))\n",
    "print('score with RF on train', rf.score(X_test_pca, y_test))"
   ]
  },
  {
   "cell_type": "markdown",
   "metadata": {
    "id": "eggIQq9YQq34"
   },
   "source": [
    "If you still have time, you could try to use scikit-learn's `Pipeline` to perform the hyperparameter optimization jointly on the PCA and the classification model. This might improve your performances."
   ]
  }
 ],
 "metadata": {
  "colab": {
   "collapsed_sections": [],
   "name": "Fashion.ipynb",
   "provenance": []
  },
  "kernelspec": {
   "display_name": "Python 3",
   "language": "python",
   "name": "python3"
  },
  "language_info": {
   "codemirror_mode": {
    "name": "ipython",
    "version": 3
   },
   "file_extension": ".py",
   "mimetype": "text/x-python",
   "name": "python",
   "nbconvert_exporter": "python",
   "pygments_lexer": "ipython3",
   "version": "3.7.9"
  },
  "toc": {
   "base_numbering": 1,
   "nav_menu": {},
   "number_sections": true,
   "sideBar": true,
   "skip_h1_title": false,
   "title_cell": "Table of Contents",
   "title_sidebar": "Contents",
   "toc_cell": false,
   "toc_position": {},
   "toc_section_display": true,
   "toc_window_display": false
  },
  "varInspector": {
   "cols": {
    "lenName": 16,
    "lenType": 16,
    "lenVar": 40
   },
   "kernels_config": {
    "python": {
     "delete_cmd_postfix": "",
     "delete_cmd_prefix": "del ",
     "library": "var_list.py",
     "varRefreshCmd": "print(var_dic_list())"
    },
    "r": {
     "delete_cmd_postfix": ") ",
     "delete_cmd_prefix": "rm(",
     "library": "var_list.r",
     "varRefreshCmd": "cat(var_dic_list()) "
    }
   },
   "types_to_exclude": [
    "module",
    "function",
    "builtin_function_or_method",
    "instance",
    "_Feature"
   ],
   "window_display": false
  }
 },
 "nbformat": 4,
 "nbformat_minor": 1
}
