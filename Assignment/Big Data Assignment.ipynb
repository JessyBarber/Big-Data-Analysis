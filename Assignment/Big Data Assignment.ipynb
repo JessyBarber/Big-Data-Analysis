{
 "cells": [
  {
   "cell_type": "markdown",
   "id": "504e0829",
   "metadata": {},
   "source": [
    "Part 1): Data preparation and preprocessing.\n",
    "- Perform data preparation and preprocessing for your analysis. \n",
    "- Submit your Jupyter notebook in your Github repository"
   ]
  },
  {
   "cell_type": "code",
   "execution_count": 1,
   "id": "630c05c9",
   "metadata": {},
   "outputs": [],
   "source": [
    "import numpy as np\n",
    "import pandas as pd\n",
    "import matplotlib.pyplot as plt"
   ]
  },
  {
   "cell_type": "code",
   "execution_count": 9,
   "id": "329b7189",
   "metadata": {
    "scrolled": false
   },
   "outputs": [
    {
     "name": "stderr",
     "output_type": "stream",
     "text": [
      "E:\\Programs\\Anaconda3\\lib\\site-packages\\IPython\\core\\interactiveshell.py:3166: DtypeWarning: Columns (0,4,5,6,7) have mixed types.Specify dtype option on import or set low_memory=False.\n",
      "  interactivity=interactivity, compiler=compiler, result=result)\n"
     ]
    },
    {
     "name": "stdout",
     "output_type": "stream",
     "text": [
      "Dataframe shape =  (318477, 12)\n"
     ]
    },
    {
     "data": {
      "text/html": [
       "<div>\n",
       "<style scoped>\n",
       "    .dataframe tbody tr th:only-of-type {\n",
       "        vertical-align: middle;\n",
       "    }\n",
       "\n",
       "    .dataframe tbody tr th {\n",
       "        vertical-align: top;\n",
       "    }\n",
       "\n",
       "    .dataframe thead th {\n",
       "        text-align: right;\n",
       "    }\n",
       "</style>\n",
       "<table border=\"1\" class=\"dataframe\">\n",
       "  <thead>\n",
       "    <tr style=\"text-align: right;\">\n",
       "      <th></th>\n",
       "      <th>Title</th>\n",
       "      <th>Company</th>\n",
       "      <th>Date</th>\n",
       "      <th>Location</th>\n",
       "      <th>Area</th>\n",
       "      <th>Classification</th>\n",
       "      <th>SubClassification</th>\n",
       "      <th>Requirement</th>\n",
       "      <th>FullDescription</th>\n",
       "      <th>LowestSalary</th>\n",
       "      <th>HighestSalary</th>\n",
       "      <th>JobType</th>\n",
       "    </tr>\n",
       "    <tr>\n",
       "      <th>Id</th>\n",
       "      <th></th>\n",
       "      <th></th>\n",
       "      <th></th>\n",
       "      <th></th>\n",
       "      <th></th>\n",
       "      <th></th>\n",
       "      <th></th>\n",
       "      <th></th>\n",
       "      <th></th>\n",
       "      <th></th>\n",
       "      <th></th>\n",
       "      <th></th>\n",
       "    </tr>\n",
       "  </thead>\n",
       "  <tbody>\n",
       "    <tr>\n",
       "      <th>37404348</th>\n",
       "      <td>Casual Stock Replenisher</td>\n",
       "      <td>Aldi Stores</td>\n",
       "      <td>2018-10-07 00:00:00+00:00</td>\n",
       "      <td>Sydney</td>\n",
       "      <td>North West &amp; Hills District</td>\n",
       "      <td>Retail &amp; Consumer Products</td>\n",
       "      <td>Retail Assistants</td>\n",
       "      <td>Our Casual Stock Replenishers pride themselves...</td>\n",
       "      <td>NaN</td>\n",
       "      <td>0</td>\n",
       "      <td>30</td>\n",
       "      <td>NaN</td>\n",
       "    </tr>\n",
       "    <tr>\n",
       "      <th>37404337</th>\n",
       "      <td>Casual Stock Replenisher</td>\n",
       "      <td>Aldi Stores</td>\n",
       "      <td>2018-10-07 00:00:00+00:00</td>\n",
       "      <td>Richmond &amp; Hawkesbury</td>\n",
       "      <td>NaN</td>\n",
       "      <td>Retail &amp; Consumer Products</td>\n",
       "      <td>Retail Assistants</td>\n",
       "      <td>Our Casual Stock Replenishers pride themselves...</td>\n",
       "      <td>NaN</td>\n",
       "      <td>0</td>\n",
       "      <td>30</td>\n",
       "      <td>NaN</td>\n",
       "    </tr>\n",
       "    <tr>\n",
       "      <th>37404356</th>\n",
       "      <td>RETAIL SALES SUPERSTARS and STYLISTS Wanted - ...</td>\n",
       "      <td>LB Creative Pty Ltd</td>\n",
       "      <td>2018-10-07 00:00:00+00:00</td>\n",
       "      <td>Brisbane</td>\n",
       "      <td>CBD &amp; Inner Suburbs</td>\n",
       "      <td>Retail &amp; Consumer Products</td>\n",
       "      <td>Retail Assistants</td>\n",
       "      <td>BRAND NEW FLAGSHIP STORE OPENING - SUNSHINE PLAZA</td>\n",
       "      <td>NaN</td>\n",
       "      <td>0</td>\n",
       "      <td>30</td>\n",
       "      <td>NaN</td>\n",
       "    </tr>\n",
       "    <tr>\n",
       "      <th>37404330</th>\n",
       "      <td>Team member - Belrose</td>\n",
       "      <td>Anaconda Group Pty Ltd</td>\n",
       "      <td>2018-10-07 00:00:00+00:00</td>\n",
       "      <td>Gosford &amp; Central Coast</td>\n",
       "      <td>NaN</td>\n",
       "      <td>Retail &amp; Consumer Products</td>\n",
       "      <td>Retail Assistants</td>\n",
       "      <td>Bring it on - do you love the great outdoors a...</td>\n",
       "      <td>NaN</td>\n",
       "      <td>0</td>\n",
       "      <td>30</td>\n",
       "      <td>NaN</td>\n",
       "    </tr>\n",
       "    <tr>\n",
       "      <th>37404308</th>\n",
       "      <td>Business Banking Contact Centre Specialist, Ni...</td>\n",
       "      <td>Commonwealth Bank - Business &amp; Private Banking</td>\n",
       "      <td>2018-10-07 00:00:00+00:00</td>\n",
       "      <td>Sydney</td>\n",
       "      <td>Ryde &amp; Macquarie Park</td>\n",
       "      <td>Call Centre &amp; Customer Service</td>\n",
       "      <td>Sales - Inbound</td>\n",
       "      <td>We are seeking highly articulate, enthusiastic...</td>\n",
       "      <td>NaN</td>\n",
       "      <td>0</td>\n",
       "      <td>30</td>\n",
       "      <td>NaN</td>\n",
       "    </tr>\n",
       "  </tbody>\n",
       "</table>\n",
       "</div>"
      ],
      "text/plain": [
       "                                                      Title  \\\n",
       "Id                                                            \n",
       "37404348                           Casual Stock Replenisher   \n",
       "37404337                           Casual Stock Replenisher   \n",
       "37404356  RETAIL SALES SUPERSTARS and STYLISTS Wanted - ...   \n",
       "37404330                              Team member - Belrose   \n",
       "37404308  Business Banking Contact Centre Specialist, Ni...   \n",
       "\n",
       "                                                 Company  \\\n",
       "Id                                                         \n",
       "37404348                                     Aldi Stores   \n",
       "37404337                                     Aldi Stores   \n",
       "37404356                             LB Creative Pty Ltd   \n",
       "37404330                          Anaconda Group Pty Ltd   \n",
       "37404308  Commonwealth Bank - Business & Private Banking   \n",
       "\n",
       "                              Date                 Location  \\\n",
       "Id                                                            \n",
       "37404348 2018-10-07 00:00:00+00:00                   Sydney   \n",
       "37404337 2018-10-07 00:00:00+00:00    Richmond & Hawkesbury   \n",
       "37404356 2018-10-07 00:00:00+00:00                 Brisbane   \n",
       "37404330 2018-10-07 00:00:00+00:00  Gosford & Central Coast   \n",
       "37404308 2018-10-07 00:00:00+00:00                   Sydney   \n",
       "\n",
       "                                 Area                  Classification  \\\n",
       "Id                                                                      \n",
       "37404348  North West & Hills District      Retail & Consumer Products   \n",
       "37404337                          NaN      Retail & Consumer Products   \n",
       "37404356          CBD & Inner Suburbs      Retail & Consumer Products   \n",
       "37404330                          NaN      Retail & Consumer Products   \n",
       "37404308        Ryde & Macquarie Park  Call Centre & Customer Service   \n",
       "\n",
       "          SubClassification  \\\n",
       "Id                            \n",
       "37404348  Retail Assistants   \n",
       "37404337  Retail Assistants   \n",
       "37404356  Retail Assistants   \n",
       "37404330  Retail Assistants   \n",
       "37404308    Sales - Inbound   \n",
       "\n",
       "                                                Requirement FullDescription  \\\n",
       "Id                                                                            \n",
       "37404348  Our Casual Stock Replenishers pride themselves...             NaN   \n",
       "37404337  Our Casual Stock Replenishers pride themselves...             NaN   \n",
       "37404356  BRAND NEW FLAGSHIP STORE OPENING - SUNSHINE PLAZA             NaN   \n",
       "37404330  Bring it on - do you love the great outdoors a...             NaN   \n",
       "37404308  We are seeking highly articulate, enthusiastic...             NaN   \n",
       "\n",
       "          LowestSalary  HighestSalary JobType  \n",
       "Id                                             \n",
       "37404348             0             30     NaN  \n",
       "37404337             0             30     NaN  \n",
       "37404356             0             30     NaN  \n",
       "37404330             0             30     NaN  \n",
       "37404308             0             30     NaN  "
      ]
     },
     "execution_count": 9,
     "metadata": {},
     "output_type": "execute_result"
    }
   ],
   "source": [
    "# Loading the file\n",
    "\n",
    "df = pd.read_csv(\"data.csv\", index_col=0)\n",
    "df[\"Date\"] = pd.to_datetime(df[\"Date\"])\n",
    "print(\"Dataframe shape = \",df.shape)\n",
    "df.head()"
   ]
  },
  {
   "cell_type": "code",
   "execution_count": 10,
   "id": "78ef4248",
   "metadata": {},
   "outputs": [
    {
     "name": "stdout",
     "output_type": "stream",
     "text": [
      "<class 'pandas.core.frame.DataFrame'>\n",
      "Index: 318477 entries, 37404348 to 38561751\n",
      "Data columns (total 12 columns):\n",
      " #   Column             Non-Null Count   Dtype              \n",
      "---  ------             --------------   -----              \n",
      " 0   Title              318477 non-null  object             \n",
      " 1   Company            306473 non-null  object             \n",
      " 2   Date               318477 non-null  datetime64[ns, UTC]\n",
      " 3   Location           197229 non-null  object             \n",
      " 4   Area               122658 non-null  object             \n",
      " 5   Classification     197229 non-null  object             \n",
      " 6   SubClassification  197229 non-null  object             \n",
      " 7   Requirement        318470 non-null  object             \n",
      " 8   FullDescription    302302 non-null  object             \n",
      " 9   LowestSalary       318477 non-null  int64              \n",
      " 10  HighestSalary      318477 non-null  int64              \n",
      " 11  JobType            302379 non-null  object             \n",
      "dtypes: datetime64[ns, UTC](1), int64(2), object(9)\n",
      "memory usage: 31.6+ MB\n"
     ]
    }
   ],
   "source": [
    "df.info()"
   ]
  },
  {
   "cell_type": "code",
   "execution_count": 11,
   "id": "9bddde93",
   "metadata": {},
   "outputs": [
    {
     "data": {
      "text/plain": [
       "pandas.core.indexes.base.Index"
      ]
     },
     "execution_count": 11,
     "metadata": {},
     "output_type": "execute_result"
    }
   ],
   "source": [
    "type(df.index)"
   ]
  },
  {
   "cell_type": "markdown",
   "id": "6844d023",
   "metadata": {},
   "source": [
    "Need to prime the data for analysis section so need:"
   ]
  },
  {
   "cell_type": "markdown",
   "id": "cec76941",
   "metadata": {},
   "source": [
    "1. What is the sector, sub-sector of each job?\n",
    "2. Where is the location of each job?\n",
    "3. What is the range of salaries for each job?"
   ]
  },
  {
   "cell_type": "markdown",
   "id": "d1a75706",
   "metadata": {},
   "source": [
    "Now, study the market by locations:\n",
    "1. What is the market size in each city? What are the hottest job sectors in each city?\n",
    "2. Which range of salary is common in each city? Where are the employees more well-paid?\n",
    "3. Can you detect the pattern of posting: e.g. Are more jobs posted at the beginning of the month?"
   ]
  },
  {
   "cell_type": "markdown",
   "id": "648b961a",
   "metadata": {},
   "source": [
    "Now, study the market by sectors:\n",
    "1. Which sectors keep the highest market share?\n",
    "2. In each sector, which sub-sectors are the main spotlights?\n",
    "3. What is the salary range for each sector/sub-sector? Can you compare the salary range between sectors/subsectors?\n",
    "4. What is the trending of the market, i.e., if a high school student asks you which subject should he/she learn in the university (to guarantee a job in the future), what is your advice?\n",
    "5. Can you detect which skills are required in each sector?"
   ]
  },
  {
   "cell_type": "markdown",
   "id": "ec24a3c4",
   "metadata": {},
   "source": [
    "Keep in mind these sectors / locations that need to be considered when cleaning the data. Think about sub data frames that need to be made and think of the correlations that need to be found. "
   ]
  }
 ],
 "metadata": {
  "kernelspec": {
   "display_name": "Python 3",
   "language": "python",
   "name": "python3"
  },
  "language_info": {
   "codemirror_mode": {
    "name": "ipython",
    "version": 3
   },
   "file_extension": ".py",
   "mimetype": "text/x-python",
   "name": "python",
   "nbconvert_exporter": "python",
   "pygments_lexer": "ipython3",
   "version": "3.7.9"
  },
  "varInspector": {
   "cols": {
    "lenName": 16,
    "lenType": 16,
    "lenVar": 40
   },
   "kernels_config": {
    "python": {
     "delete_cmd_postfix": "",
     "delete_cmd_prefix": "del ",
     "library": "var_list.py",
     "varRefreshCmd": "print(var_dic_list())"
    },
    "r": {
     "delete_cmd_postfix": ") ",
     "delete_cmd_prefix": "rm(",
     "library": "var_list.r",
     "varRefreshCmd": "cat(var_dic_list()) "
    }
   },
   "types_to_exclude": [
    "module",
    "function",
    "builtin_function_or_method",
    "instance",
    "_Feature"
   ],
   "window_display": false
  }
 },
 "nbformat": 4,
 "nbformat_minor": 5
}
